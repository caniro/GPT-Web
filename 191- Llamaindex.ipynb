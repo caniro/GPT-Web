{
  "nbformat": 4,
  "nbformat_minor": 0,
  "metadata": {
    "colab": {
      "provenance": [],
      "gpuType": "T4",
      "include_colab_link": true
    },
    "kernelspec": {
      "name": "python3",
      "display_name": "Python 3"
    },
    "language_info": {
      "name": "python"
    },
    "accelerator": "GPU"
  },
  "cells": [
    {
      "cell_type": "markdown",
      "metadata": {
        "id": "view-in-github",
        "colab_type": "text"
      },
      "source": [
        "<a href=\"https://colab.research.google.com/github/caniro/GPT-Web/blob/main/191-%20Llamaindex.ipynb\" target=\"_parent\"><img src=\"https://colab.research.google.com/assets/colab-badge.svg\" alt=\"Open In Colab\"/></a>"
      ]
    },
    {
      "cell_type": "code",
      "execution_count": 1,
      "metadata": {
        "id": "xkYpfBvE9BZu",
        "outputId": "2597b21d-59e9-40f3-db50-df487c030e68",
        "colab": {
          "base_uri": "https://localhost:8080/"
        }
      },
      "outputs": [
        {
          "output_type": "stream",
          "name": "stdout",
          "text": [
            "Requirement already satisfied: llama-index in /usr/local/lib/python3.11/dist-packages (0.12.50)\n",
            "Requirement already satisfied: html2text in /usr/local/lib/python3.11/dist-packages (2025.4.15)\n",
            "Requirement already satisfied: llama-index-agent-openai<0.5,>=0.4.0 in /usr/local/lib/python3.11/dist-packages (from llama-index) (0.4.12)\n",
            "Requirement already satisfied: llama-index-cli<0.5,>=0.4.2 in /usr/local/lib/python3.11/dist-packages (from llama-index) (0.4.4)\n",
            "Requirement already satisfied: llama-index-core<0.13,>=0.12.50 in /usr/local/lib/python3.11/dist-packages (from llama-index) (0.12.51)\n",
            "Requirement already satisfied: llama-index-embeddings-openai<0.4,>=0.3.0 in /usr/local/lib/python3.11/dist-packages (from llama-index) (0.3.1)\n",
            "Requirement already satisfied: llama-index-indices-managed-llama-cloud>=0.4.0 in /usr/local/lib/python3.11/dist-packages (from llama-index) (0.7.10)\n",
            "Requirement already satisfied: llama-index-llms-openai<0.5,>=0.4.0 in /usr/local/lib/python3.11/dist-packages (from llama-index) (0.4.7)\n",
            "Requirement already satisfied: llama-index-multi-modal-llms-openai<0.6,>=0.5.0 in /usr/local/lib/python3.11/dist-packages (from llama-index) (0.5.3)\n",
            "Requirement already satisfied: llama-index-program-openai<0.4,>=0.3.0 in /usr/local/lib/python3.11/dist-packages (from llama-index) (0.3.2)\n",
            "Requirement already satisfied: llama-index-question-gen-openai<0.4,>=0.3.0 in /usr/local/lib/python3.11/dist-packages (from llama-index) (0.3.1)\n",
            "Requirement already satisfied: llama-index-readers-file<0.5,>=0.4.0 in /usr/local/lib/python3.11/dist-packages (from llama-index) (0.4.11)\n",
            "Requirement already satisfied: llama-index-readers-llama-parse>=0.4.0 in /usr/local/lib/python3.11/dist-packages (from llama-index) (0.4.0)\n",
            "Requirement already satisfied: nltk>3.8.1 in /usr/local/lib/python3.11/dist-packages (from llama-index) (3.9.1)\n",
            "Requirement already satisfied: openai>=1.14.0 in /usr/local/lib/python3.11/dist-packages (from llama-index-agent-openai<0.5,>=0.4.0->llama-index) (1.97.0)\n",
            "Requirement already satisfied: aiohttp<4,>=3.8.6 in /usr/local/lib/python3.11/dist-packages (from llama-index-core<0.13,>=0.12.50->llama-index) (3.11.15)\n",
            "Requirement already satisfied: aiosqlite in /usr/local/lib/python3.11/dist-packages (from llama-index-core<0.13,>=0.12.50->llama-index) (0.21.0)\n",
            "Requirement already satisfied: banks<3,>=2.0.0 in /usr/local/lib/python3.11/dist-packages (from llama-index-core<0.13,>=0.12.50->llama-index) (2.2.0)\n",
            "Requirement already satisfied: dataclasses-json in /usr/local/lib/python3.11/dist-packages (from llama-index-core<0.13,>=0.12.50->llama-index) (0.6.7)\n",
            "Requirement already satisfied: deprecated>=1.2.9.3 in /usr/local/lib/python3.11/dist-packages (from llama-index-core<0.13,>=0.12.50->llama-index) (1.2.18)\n",
            "Requirement already satisfied: dirtyjson<2,>=1.0.8 in /usr/local/lib/python3.11/dist-packages (from llama-index-core<0.13,>=0.12.50->llama-index) (1.0.8)\n",
            "Requirement already satisfied: filetype<2,>=1.2.0 in /usr/local/lib/python3.11/dist-packages (from llama-index-core<0.13,>=0.12.50->llama-index) (1.2.0)\n",
            "Requirement already satisfied: fsspec>=2023.5.0 in /usr/local/lib/python3.11/dist-packages (from llama-index-core<0.13,>=0.12.50->llama-index) (2025.3.2)\n",
            "Requirement already satisfied: httpx in /usr/local/lib/python3.11/dist-packages (from llama-index-core<0.13,>=0.12.50->llama-index) (0.28.1)\n",
            "Requirement already satisfied: llama-index-workflows<2,>=1.0.1 in /usr/local/lib/python3.11/dist-packages (from llama-index-core<0.13,>=0.12.50->llama-index) (1.1.0)\n",
            "Requirement already satisfied: nest-asyncio<2,>=1.5.8 in /usr/local/lib/python3.11/dist-packages (from llama-index-core<0.13,>=0.12.50->llama-index) (1.6.0)\n",
            "Requirement already satisfied: networkx>=3.0 in /usr/local/lib/python3.11/dist-packages (from llama-index-core<0.13,>=0.12.50->llama-index) (3.5)\n",
            "Requirement already satisfied: numpy in /usr/local/lib/python3.11/dist-packages (from llama-index-core<0.13,>=0.12.50->llama-index) (2.0.2)\n",
            "Requirement already satisfied: pillow>=9.0.0 in /usr/local/lib/python3.11/dist-packages (from llama-index-core<0.13,>=0.12.50->llama-index) (11.2.1)\n",
            "Requirement already satisfied: platformdirs in /usr/local/lib/python3.11/dist-packages (from llama-index-core<0.13,>=0.12.50->llama-index) (4.3.8)\n",
            "Requirement already satisfied: pydantic>=2.8.0 in /usr/local/lib/python3.11/dist-packages (from llama-index-core<0.13,>=0.12.50->llama-index) (2.11.7)\n",
            "Requirement already satisfied: pyyaml>=6.0.1 in /usr/local/lib/python3.11/dist-packages (from llama-index-core<0.13,>=0.12.50->llama-index) (6.0.2)\n",
            "Requirement already satisfied: requests>=2.31.0 in /usr/local/lib/python3.11/dist-packages (from llama-index-core<0.13,>=0.12.50->llama-index) (2.32.3)\n",
            "Requirement already satisfied: setuptools>=80.9.0 in /usr/local/lib/python3.11/dist-packages (from llama-index-core<0.13,>=0.12.50->llama-index) (80.9.0)\n",
            "Requirement already satisfied: sqlalchemy>=1.4.49 in /usr/local/lib/python3.11/dist-packages (from sqlalchemy[asyncio]>=1.4.49->llama-index-core<0.13,>=0.12.50->llama-index) (2.0.41)\n",
            "Requirement already satisfied: tenacity!=8.4.0,<10.0.0,>=8.2.0 in /usr/local/lib/python3.11/dist-packages (from llama-index-core<0.13,>=0.12.50->llama-index) (8.5.0)\n",
            "Requirement already satisfied: tiktoken>=0.7.0 in /usr/local/lib/python3.11/dist-packages (from llama-index-core<0.13,>=0.12.50->llama-index) (0.9.0)\n",
            "Requirement already satisfied: tqdm<5,>=4.66.1 in /usr/local/lib/python3.11/dist-packages (from llama-index-core<0.13,>=0.12.50->llama-index) (4.67.1)\n",
            "Requirement already satisfied: typing-extensions>=4.5.0 in /usr/local/lib/python3.11/dist-packages (from llama-index-core<0.13,>=0.12.50->llama-index) (4.14.1)\n",
            "Requirement already satisfied: typing-inspect>=0.8.0 in /usr/local/lib/python3.11/dist-packages (from llama-index-core<0.13,>=0.12.50->llama-index) (0.9.0)\n",
            "Requirement already satisfied: wrapt in /usr/local/lib/python3.11/dist-packages (from llama-index-core<0.13,>=0.12.50->llama-index) (1.17.2)\n",
            "Requirement already satisfied: llama-cloud==0.1.32 in /usr/local/lib/python3.11/dist-packages (from llama-index-indices-managed-llama-cloud>=0.4.0->llama-index) (0.1.32)\n",
            "Requirement already satisfied: certifi>=2024.7.4 in /usr/local/lib/python3.11/dist-packages (from llama-cloud==0.1.32->llama-index-indices-managed-llama-cloud>=0.4.0->llama-index) (2025.7.14)\n",
            "Requirement already satisfied: beautifulsoup4<5,>=4.12.3 in /usr/local/lib/python3.11/dist-packages (from llama-index-readers-file<0.5,>=0.4.0->llama-index) (4.13.4)\n",
            "Requirement already satisfied: defusedxml>=0.7.1 in /usr/local/lib/python3.11/dist-packages (from llama-index-readers-file<0.5,>=0.4.0->llama-index) (0.7.1)\n",
            "Requirement already satisfied: pandas<2.3.0 in /usr/local/lib/python3.11/dist-packages (from llama-index-readers-file<0.5,>=0.4.0->llama-index) (2.2.2)\n",
            "Requirement already satisfied: pypdf<6,>=5.1.0 in /usr/local/lib/python3.11/dist-packages (from llama-index-readers-file<0.5,>=0.4.0->llama-index) (5.8.0)\n",
            "Requirement already satisfied: striprtf<0.0.27,>=0.0.26 in /usr/local/lib/python3.11/dist-packages (from llama-index-readers-file<0.5,>=0.4.0->llama-index) (0.0.26)\n",
            "Requirement already satisfied: llama-parse>=0.5.0 in /usr/local/lib/python3.11/dist-packages (from llama-index-readers-llama-parse>=0.4.0->llama-index) (0.6.43)\n",
            "Requirement already satisfied: click in /usr/local/lib/python3.11/dist-packages (from nltk>3.8.1->llama-index) (8.2.1)\n",
            "Requirement already satisfied: joblib in /usr/local/lib/python3.11/dist-packages (from nltk>3.8.1->llama-index) (1.5.1)\n",
            "Requirement already satisfied: regex>=2021.8.3 in /usr/local/lib/python3.11/dist-packages (from nltk>3.8.1->llama-index) (2024.11.6)\n",
            "Requirement already satisfied: aiohappyeyeballs>=2.3.0 in /usr/local/lib/python3.11/dist-packages (from aiohttp<4,>=3.8.6->llama-index-core<0.13,>=0.12.50->llama-index) (2.6.1)\n",
            "Requirement already satisfied: aiosignal>=1.1.2 in /usr/local/lib/python3.11/dist-packages (from aiohttp<4,>=3.8.6->llama-index-core<0.13,>=0.12.50->llama-index) (1.4.0)\n",
            "Requirement already satisfied: attrs>=17.3.0 in /usr/local/lib/python3.11/dist-packages (from aiohttp<4,>=3.8.6->llama-index-core<0.13,>=0.12.50->llama-index) (25.3.0)\n",
            "Requirement already satisfied: frozenlist>=1.1.1 in /usr/local/lib/python3.11/dist-packages (from aiohttp<4,>=3.8.6->llama-index-core<0.13,>=0.12.50->llama-index) (1.7.0)\n",
            "Requirement already satisfied: multidict<7.0,>=4.5 in /usr/local/lib/python3.11/dist-packages (from aiohttp<4,>=3.8.6->llama-index-core<0.13,>=0.12.50->llama-index) (6.6.3)\n",
            "Requirement already satisfied: propcache>=0.2.0 in /usr/local/lib/python3.11/dist-packages (from aiohttp<4,>=3.8.6->llama-index-core<0.13,>=0.12.50->llama-index) (0.3.2)\n",
            "Requirement already satisfied: yarl<2.0,>=1.17.0 in /usr/local/lib/python3.11/dist-packages (from aiohttp<4,>=3.8.6->llama-index-core<0.13,>=0.12.50->llama-index) (1.20.1)\n",
            "Requirement already satisfied: griffe in /usr/local/lib/python3.11/dist-packages (from banks<3,>=2.0.0->llama-index-core<0.13,>=0.12.50->llama-index) (1.7.3)\n",
            "Requirement already satisfied: jinja2 in /usr/local/lib/python3.11/dist-packages (from banks<3,>=2.0.0->llama-index-core<0.13,>=0.12.50->llama-index) (3.1.6)\n",
            "Requirement already satisfied: soupsieve>1.2 in /usr/local/lib/python3.11/dist-packages (from beautifulsoup4<5,>=4.12.3->llama-index-readers-file<0.5,>=0.4.0->llama-index) (2.7)\n",
            "Requirement already satisfied: anyio in /usr/local/lib/python3.11/dist-packages (from httpx->llama-index-core<0.13,>=0.12.50->llama-index) (4.9.0)\n",
            "Requirement already satisfied: httpcore==1.* in /usr/local/lib/python3.11/dist-packages (from httpx->llama-index-core<0.13,>=0.12.50->llama-index) (1.0.9)\n",
            "Requirement already satisfied: idna in /usr/local/lib/python3.11/dist-packages (from httpx->llama-index-core<0.13,>=0.12.50->llama-index) (3.10)\n",
            "Requirement already satisfied: h11>=0.16 in /usr/local/lib/python3.11/dist-packages (from httpcore==1.*->httpx->llama-index-core<0.13,>=0.12.50->llama-index) (0.16.0)\n",
            "Requirement already satisfied: llama-index-instrumentation>=0.1.0 in /usr/local/lib/python3.11/dist-packages (from llama-index-workflows<2,>=1.0.1->llama-index-core<0.13,>=0.12.50->llama-index) (0.3.0)\n",
            "Requirement already satisfied: llama-cloud-services>=0.6.43 in /usr/local/lib/python3.11/dist-packages (from llama-parse>=0.5.0->llama-index-readers-llama-parse>=0.4.0->llama-index) (0.6.43)\n",
            "Requirement already satisfied: distro<2,>=1.7.0 in /usr/local/lib/python3.11/dist-packages (from openai>=1.14.0->llama-index-agent-openai<0.5,>=0.4.0->llama-index) (1.9.0)\n",
            "Requirement already satisfied: jiter<1,>=0.4.0 in /usr/local/lib/python3.11/dist-packages (from openai>=1.14.0->llama-index-agent-openai<0.5,>=0.4.0->llama-index) (0.10.0)\n",
            "Requirement already satisfied: sniffio in /usr/local/lib/python3.11/dist-packages (from openai>=1.14.0->llama-index-agent-openai<0.5,>=0.4.0->llama-index) (1.3.1)\n",
            "Requirement already satisfied: python-dateutil>=2.8.2 in /usr/local/lib/python3.11/dist-packages (from pandas<2.3.0->llama-index-readers-file<0.5,>=0.4.0->llama-index) (2.9.0.post0)\n",
            "Requirement already satisfied: pytz>=2020.1 in /usr/local/lib/python3.11/dist-packages (from pandas<2.3.0->llama-index-readers-file<0.5,>=0.4.0->llama-index) (2025.2)\n",
            "Requirement already satisfied: tzdata>=2022.7 in /usr/local/lib/python3.11/dist-packages (from pandas<2.3.0->llama-index-readers-file<0.5,>=0.4.0->llama-index) (2025.2)\n",
            "Requirement already satisfied: annotated-types>=0.6.0 in /usr/local/lib/python3.11/dist-packages (from pydantic>=2.8.0->llama-index-core<0.13,>=0.12.50->llama-index) (0.7.0)\n",
            "Requirement already satisfied: pydantic-core==2.33.2 in /usr/local/lib/python3.11/dist-packages (from pydantic>=2.8.0->llama-index-core<0.13,>=0.12.50->llama-index) (2.33.2)\n",
            "Requirement already satisfied: typing-inspection>=0.4.0 in /usr/local/lib/python3.11/dist-packages (from pydantic>=2.8.0->llama-index-core<0.13,>=0.12.50->llama-index) (0.4.1)\n",
            "Requirement already satisfied: charset-normalizer<4,>=2 in /usr/local/lib/python3.11/dist-packages (from requests>=2.31.0->llama-index-core<0.13,>=0.12.50->llama-index) (3.4.2)\n",
            "Requirement already satisfied: urllib3<3,>=1.21.1 in /usr/local/lib/python3.11/dist-packages (from requests>=2.31.0->llama-index-core<0.13,>=0.12.50->llama-index) (2.4.0)\n",
            "Requirement already satisfied: greenlet>=1 in /usr/local/lib/python3.11/dist-packages (from sqlalchemy>=1.4.49->sqlalchemy[asyncio]>=1.4.49->llama-index-core<0.13,>=0.12.50->llama-index) (3.2.3)\n",
            "Requirement already satisfied: mypy-extensions>=0.3.0 in /usr/local/lib/python3.11/dist-packages (from typing-inspect>=0.8.0->llama-index-core<0.13,>=0.12.50->llama-index) (1.1.0)\n",
            "Requirement already satisfied: marshmallow<4.0.0,>=3.18.0 in /usr/local/lib/python3.11/dist-packages (from dataclasses-json->llama-index-core<0.13,>=0.12.50->llama-index) (3.26.1)\n",
            "Requirement already satisfied: python-dotenv<2.0.0,>=1.0.1 in /usr/local/lib/python3.11/dist-packages (from llama-cloud-services>=0.6.43->llama-parse>=0.5.0->llama-index-readers-llama-parse>=0.4.0->llama-index) (1.1.1)\n",
            "Requirement already satisfied: packaging>=17.0 in /usr/local/lib/python3.11/dist-packages (from marshmallow<4.0.0,>=3.18.0->dataclasses-json->llama-index-core<0.13,>=0.12.50->llama-index) (25.0)\n",
            "Requirement already satisfied: six>=1.5 in /usr/local/lib/python3.11/dist-packages (from python-dateutil>=2.8.2->pandas<2.3.0->llama-index-readers-file<0.5,>=0.4.0->llama-index) (1.17.0)\n",
            "Requirement already satisfied: colorama>=0.4 in /usr/local/lib/python3.11/dist-packages (from griffe->banks<3,>=2.0.0->llama-index-core<0.13,>=0.12.50->llama-index) (0.4.6)\n",
            "Requirement already satisfied: MarkupSafe>=2.0 in /usr/local/lib/python3.11/dist-packages (from jinja2->banks<3,>=2.0.0->llama-index-core<0.13,>=0.12.50->llama-index) (3.0.2)\n",
            "Requirement already satisfied: openai in /usr/local/lib/python3.11/dist-packages (1.97.0)\n",
            "Requirement already satisfied: anyio<5,>=3.5.0 in /usr/local/lib/python3.11/dist-packages (from openai) (4.9.0)\n",
            "Requirement already satisfied: distro<2,>=1.7.0 in /usr/local/lib/python3.11/dist-packages (from openai) (1.9.0)\n",
            "Requirement already satisfied: httpx<1,>=0.23.0 in /usr/local/lib/python3.11/dist-packages (from openai) (0.28.1)\n",
            "Requirement already satisfied: jiter<1,>=0.4.0 in /usr/local/lib/python3.11/dist-packages (from openai) (0.10.0)\n",
            "Requirement already satisfied: pydantic<3,>=1.9.0 in /usr/local/lib/python3.11/dist-packages (from openai) (2.11.7)\n",
            "Requirement already satisfied: sniffio in /usr/local/lib/python3.11/dist-packages (from openai) (1.3.1)\n",
            "Requirement already satisfied: tqdm>4 in /usr/local/lib/python3.11/dist-packages (from openai) (4.67.1)\n",
            "Requirement already satisfied: typing-extensions<5,>=4.11 in /usr/local/lib/python3.11/dist-packages (from openai) (4.14.1)\n",
            "Requirement already satisfied: idna>=2.8 in /usr/local/lib/python3.11/dist-packages (from anyio<5,>=3.5.0->openai) (3.10)\n",
            "Requirement already satisfied: certifi in /usr/local/lib/python3.11/dist-packages (from httpx<1,>=0.23.0->openai) (2025.7.14)\n",
            "Requirement already satisfied: httpcore==1.* in /usr/local/lib/python3.11/dist-packages (from httpx<1,>=0.23.0->openai) (1.0.9)\n",
            "Requirement already satisfied: h11>=0.16 in /usr/local/lib/python3.11/dist-packages (from httpcore==1.*->httpx<1,>=0.23.0->openai) (0.16.0)\n",
            "Requirement already satisfied: annotated-types>=0.6.0 in /usr/local/lib/python3.11/dist-packages (from pydantic<3,>=1.9.0->openai) (0.7.0)\n",
            "Requirement already satisfied: pydantic-core==2.33.2 in /usr/local/lib/python3.11/dist-packages (from pydantic<3,>=1.9.0->openai) (2.33.2)\n",
            "Requirement already satisfied: typing-inspection>=0.4.0 in /usr/local/lib/python3.11/dist-packages (from pydantic<3,>=1.9.0->openai) (0.4.1)\n",
            "Requirement already satisfied: langchain in /usr/local/lib/python3.11/dist-packages (0.3.26)\n",
            "Requirement already satisfied: langchain-core<1.0.0,>=0.3.66 in /usr/local/lib/python3.11/dist-packages (from langchain) (0.3.69)\n",
            "Requirement already satisfied: langchain-text-splitters<1.0.0,>=0.3.8 in /usr/local/lib/python3.11/dist-packages (from langchain) (0.3.8)\n",
            "Requirement already satisfied: langsmith>=0.1.17 in /usr/local/lib/python3.11/dist-packages (from langchain) (0.4.7)\n",
            "Requirement already satisfied: pydantic<3.0.0,>=2.7.4 in /usr/local/lib/python3.11/dist-packages (from langchain) (2.11.7)\n",
            "Requirement already satisfied: SQLAlchemy<3,>=1.4 in /usr/local/lib/python3.11/dist-packages (from langchain) (2.0.41)\n",
            "Requirement already satisfied: requests<3,>=2 in /usr/local/lib/python3.11/dist-packages (from langchain) (2.32.3)\n",
            "Requirement already satisfied: PyYAML>=5.3 in /usr/local/lib/python3.11/dist-packages (from langchain) (6.0.2)\n",
            "Requirement already satisfied: tenacity!=8.4.0,<10.0.0,>=8.1.0 in /usr/local/lib/python3.11/dist-packages (from langchain-core<1.0.0,>=0.3.66->langchain) (8.5.0)\n",
            "Requirement already satisfied: jsonpatch<2.0,>=1.33 in /usr/local/lib/python3.11/dist-packages (from langchain-core<1.0.0,>=0.3.66->langchain) (1.33)\n",
            "Requirement already satisfied: typing-extensions>=4.7 in /usr/local/lib/python3.11/dist-packages (from langchain-core<1.0.0,>=0.3.66->langchain) (4.14.1)\n",
            "Requirement already satisfied: packaging>=23.2 in /usr/local/lib/python3.11/dist-packages (from langchain-core<1.0.0,>=0.3.66->langchain) (25.0)\n",
            "Requirement already satisfied: httpx<1,>=0.23.0 in /usr/local/lib/python3.11/dist-packages (from langsmith>=0.1.17->langchain) (0.28.1)\n",
            "Requirement already satisfied: orjson<4.0.0,>=3.9.14 in /usr/local/lib/python3.11/dist-packages (from langsmith>=0.1.17->langchain) (3.11.0)\n",
            "Requirement already satisfied: requests-toolbelt<2.0.0,>=1.0.0 in /usr/local/lib/python3.11/dist-packages (from langsmith>=0.1.17->langchain) (1.0.0)\n",
            "Requirement already satisfied: zstandard<0.24.0,>=0.23.0 in /usr/local/lib/python3.11/dist-packages (from langsmith>=0.1.17->langchain) (0.23.0)\n",
            "Requirement already satisfied: annotated-types>=0.6.0 in /usr/local/lib/python3.11/dist-packages (from pydantic<3.0.0,>=2.7.4->langchain) (0.7.0)\n",
            "Requirement already satisfied: pydantic-core==2.33.2 in /usr/local/lib/python3.11/dist-packages (from pydantic<3.0.0,>=2.7.4->langchain) (2.33.2)\n",
            "Requirement already satisfied: typing-inspection>=0.4.0 in /usr/local/lib/python3.11/dist-packages (from pydantic<3.0.0,>=2.7.4->langchain) (0.4.1)\n",
            "Requirement already satisfied: charset-normalizer<4,>=2 in /usr/local/lib/python3.11/dist-packages (from requests<3,>=2->langchain) (3.4.2)\n",
            "Requirement already satisfied: idna<4,>=2.5 in /usr/local/lib/python3.11/dist-packages (from requests<3,>=2->langchain) (3.10)\n",
            "Requirement already satisfied: urllib3<3,>=1.21.1 in /usr/local/lib/python3.11/dist-packages (from requests<3,>=2->langchain) (2.4.0)\n",
            "Requirement already satisfied: certifi>=2017.4.17 in /usr/local/lib/python3.11/dist-packages (from requests<3,>=2->langchain) (2025.7.14)\n",
            "Requirement already satisfied: greenlet>=1 in /usr/local/lib/python3.11/dist-packages (from SQLAlchemy<3,>=1.4->langchain) (3.2.3)\n",
            "Requirement already satisfied: anyio in /usr/local/lib/python3.11/dist-packages (from httpx<1,>=0.23.0->langsmith>=0.1.17->langchain) (4.9.0)\n",
            "Requirement already satisfied: httpcore==1.* in /usr/local/lib/python3.11/dist-packages (from httpx<1,>=0.23.0->langsmith>=0.1.17->langchain) (1.0.9)\n",
            "Requirement already satisfied: h11>=0.16 in /usr/local/lib/python3.11/dist-packages (from httpcore==1.*->httpx<1,>=0.23.0->langsmith>=0.1.17->langchain) (0.16.0)\n",
            "Requirement already satisfied: jsonpointer>=1.9 in /usr/local/lib/python3.11/dist-packages (from jsonpatch<2.0,>=1.33->langchain-core<1.0.0,>=0.3.66->langchain) (3.0.0)\n",
            "Requirement already satisfied: sniffio>=1.1 in /usr/local/lib/python3.11/dist-packages (from anyio->httpx<1,>=0.23.0->langsmith>=0.1.17->langchain) (1.3.1)\n"
          ]
        }
      ],
      "source": [
        "!pip install llama-index html2text\n",
        "!pip install llama-index-readers-web\n",
        "!pip install openai\n",
        "!pip install langchain\n",
        "!pip install langchain-community\n",
        "\n",
        "import os\n",
        "from google.colab import userdata\n",
        "\n",
        "# Colab Secret에서 API 키 불러옴\n",
        "os.environ[\"OPENAI_API_KEY\"] = userdata.get('OPENAI_API_KEY')"
      ]
    },
    {
      "cell_type": "code",
      "source": [
        "from llama_index.core import VectorStoreIndex\n",
        "from llama_index.readers.web import SimpleWebPageReader\n",
        "\n",
        "# URL you want to load into your vector store here:\n",
        "url = \"http://www.paulgraham.com/fr.html\"\n",
        "\n",
        "# Load the URL into documents (multiple documents possible)\n",
        "documents = SimpleWebPageReader(html_to_text=True).load_data([url])\n",
        "\n",
        "# Create vector store from documents\n",
        "index = VectorStoreIndex.from_documents(documents)\n",
        "\n",
        "# Create query engine so we can ask it questions:\n",
        "query_engine = index.as_query_engine()\n",
        "\n",
        "# Ask as many questions as you want against the loaded data:\n",
        "response = query_engine.query(\"What are the 3 best advise by Paul to raise money?\")"
      ],
      "metadata": {
        "id": "gkCXVef3_V7L"
      },
      "execution_count": 6,
      "outputs": []
    },
    {
      "cell_type": "code",
      "source": [
        "print(response)"
      ],
      "metadata": {
        "id": "VqnzET-Abt5D",
        "outputId": "9c5e3adc-9c4e-46b8-f84b-51b1f3e29362",
        "colab": {
          "base_uri": "https://localhost:8080/"
        }
      },
      "execution_count": 8,
      "outputs": [
        {
          "output_type": "stream",
          "name": "stdout",
          "text": [
            "Avoid investors until you decide to raise money, talk to them all in parallel prioritized by expected value, and accept offers greedily.\n"
          ]
        }
      ]
    },
    {
      "cell_type": "markdown",
      "source": [
        "LangChain\n"
      ],
      "metadata": {
        "id": "Nzzu7Q3NDOtA"
      }
    },
    {
      "cell_type": "code",
      "source": [
        "from langchain.agents import initialize_agent, Tool\n",
        "from langchain.llms import OpenAI\n",
        "from langchain.chains.conversation.memory import ConversationBufferMemory\n",
        "\n",
        "loader = SimpleWebPageReader()\n",
        "documents = loader.load_data(urls=[url])\n",
        "index = VectorStoreIndex.from_documents(documents)"
      ],
      "metadata": {
        "id": "1NLDLi9dcb-U",
        "outputId": "5e2c7cc5-d4d8-431d-f963-e07118c39bd7",
        "colab": {
          "base_uri": "https://localhost:8080/"
        }
      },
      "execution_count": 11,
      "outputs": [
        {
          "output_type": "stream",
          "name": "stderr",
          "text": [
            "INFO:httpx:HTTP Request: POST https://api.openai.com/v1/embeddings \"HTTP/1.1 200 OK\"\n"
          ]
        }
      ]
    },
    {
      "cell_type": "code",
      "source": [
        "index.as_query_engine().query(\"What are the 3 best advise by Paul to raise money?\")"
      ],
      "metadata": {
        "id": "MAnsQkV4chvH",
        "collapsed": true,
        "outputId": "2a429b4e-bfec-45bc-e5b7-d37023bd4fcc",
        "colab": {
          "base_uri": "https://localhost:8080/"
        }
      },
      "execution_count": 12,
      "outputs": [
        {
          "output_type": "stream",
          "name": "stderr",
          "text": [
            "INFO:httpx:HTTP Request: POST https://api.openai.com/v1/embeddings \"HTTP/1.1 200 OK\"\n",
            "INFO:httpx:HTTP Request: POST https://api.openai.com/v1/chat/completions \"HTTP/1.1 200 OK\"\n"
          ]
        },
        {
          "output_type": "execute_result",
          "data": {
            "text/plain": [
              "Response(response='1. Start by getting initial funding from sources like Y Combinator or individual angels, then gradually raise larger amounts as the company grows.\\n2. Have multiple fundraising plans depending on how much you can raise, tailoring your pitch to different types of investors.\\n3. Calculate the upper limit of what you should raise by multiplying the number of people you want to hire by $15k and 18 months, adding a margin for error.', source_nodes=[NodeWithScore(node=TextNode(id_='fe2503a0-a841-494d-901d-35b7c800caaf', embedding=None, metadata={'url': 'http://www.paulgraham.com/fr.html'}, excluded_embed_metadata_keys=[], excluded_llm_metadata_keys=[], relationships={<NodeRelationship.SOURCE: '1'>: RelatedNodeInfo(node_id='6e47154b-3557-43c6-a58a-a00e148ce656', node_type='4', metadata={'url': 'http://www.paulgraham.com/fr.html'}, hash='c4f1758462daa49e2fb4f4c5b9aac5a010302725e858bc9d9bf94ee88a2fe6a4'), <NodeRelationship.NEXT: '3'>: RelatedNodeInfo(node_id='87982421-429a-4fc4-9265-215460eba2c1', node_type='1', metadata={}, hash='302a27d884fa8c85a7acc8a2b8defc77cb686c097dc4f5e5e45ef85c5b97ad02')}, metadata_template='{key}: {value}', metadata_separator='\\n', text='<html><head><title>How to Raise Money</title><!-- <META NAME=\"ROBOTS\" CONTENT=\"NOODP\"> -->\\n<link rel=\"shortcut icon\" href=\"http://ycombinator.com/arc/arc.png\">\\n</head><body bgcolor=\"#ffffff\" background=\"https://s.turbifycdn.com/aah/paulgraham/essays-4.gif\" text=\"#000000\" link=\"#000099\" vlink=\"#464646\"><table border=\"0\" cellspacing=\"0\" cellpadding=\"0\"><tr valign=\"top\"><td><map name=1717c64a02ebce1><area shape=rect coords=\"0,0,67,21\" href=\"index.html\"><area shape=rect coords=\"0,21,67,42\" href=\"articles.html\"><area shape=rect coords=\"0,42,67,63\" href=\"http://www.amazon.com/gp/product/0596006624\"><area shape=rect coords=\"0,63,67,84\" href=\"books.html\"><area shape=rect coords=\"0,84,67,105\" href=\"http://ycombinator.com\"><area shape=rect coords=\"0,105,67,126\" href=\"arc.html\"><area shape=rect coords=\"0,126,67,147\" href=\"bel.html\"><area shape=rect coords=\"0,147,67,168\" href=\"lisp.html\"><area shape=rect coords=\"0,168,67,189\" href=\"antispam.html\"><area shape=rect coords=\"0,189,67,210\" href=\"kedrosky.html\"><area shape=rect coords=\"0,210,67,231\" href=\"faq.html\"><area shape=rect coords=\"0,231,67,252\" href=\"raq.html\"><area shape=rect coords=\"0,252,67,273\" href=\"quo.html\"><area shape=rect coords=\"0,273,67,294\" href=\"rss.html\"><area shape=rect coords=\"0,294,67,315\" href=\"bio.html\"><area shape=rect coords=\"0,315,67,336\" href=\"https://twitter.com/paulg\"><area shape=rect coords=\"0,336,67,357\" href=\"https://mas.to/@paulg\"></map><img src=\"https://s.turbifycdn.com/aah/paulgraham/essays-5.gif\" width=\"69\" height=\"357\" usemap=#1717c64a02ebce1 border=\"0\" hspace=\"0\" vspace=\"0\" ismap /></td><td><img src=\"https://sep.turbifycdn.com/ca/Img/trans_1x1.gif\" height=\"1\" width=\"26\" border=\"0\" /></td><td><a href=\"index.html\"><img src=\"https://s.turbifycdn.com/aah/paulgraham/essays-6.gif\" width=\"410\" height=\"45\" border=\"0\" hspace=\"0\" vspace=\"0\" /></a><br /><br /><table border=\"0\" cellspacing=\"0\" cellpadding=\"0\" width=\"435\"><tr valign=\"top\"><td width=\"435\"><img src=\"https://s.turbifycdn.com/aah/paulgraham/how-to-raise-money-4.gif\" width=\"165\" height=\"18\" border=\"0\" hspace=\"0\" vspace=\"0\" alt=\"How to Raise Money\" /><br /><br /><font size=\"2\" face=\"verdana\"><table width=100% cellspacing=0>\\n<tr><td bgcolor=#ff9922><img src=\"http://www.virtumundo.com/images/spacer.gif\"\\nheight=15 width=1><font size=2>\\n<b>Want to start a startup?</b>  Get funded by\\n<a href=\"http://ycombinator.com/apply.html\">Y Combinator</a>.\\n</font>\\n<br><img src=\"http://www.virtumundo.com/images/spacer.gif\" height=5 width=1></td\\n></tr>\\n</table>\\n<p>\\nSeptember 2013<br /><br />Most startups that raise money do it more than once.  A typical\\ntrajectory might be (1) to get started with a few tens of thousands\\nfrom something like Y Combinator or individual angels, then \\n(2) raise a few hundred thousand to a few million to build the company,\\nand then (3) once the company is clearly succeeding, raise one or\\nmore later rounds to accelerate growth.<br /><br />Reality can be messier.  Some companies raise money twice in phase\\n2.  Others skip phase 1 and go straight to phase 2.', mimetype='text/plain', start_char_idx=0, end_char_idx=3040, metadata_seperator='\\n', text_template='{metadata_str}\\n\\n{content}'), score=0.8404679542425815), NodeWithScore(node=TextNode(id_='ac3ab3ea-d477-47a7-ab30-09bad754d4a7', embedding=None, metadata={'url': 'http://www.paulgraham.com/fr.html'}, excluded_embed_metadata_keys=[], excluded_llm_metadata_keys=[], relationships={<NodeRelationship.SOURCE: '1'>: RelatedNodeInfo(node_id='6e47154b-3557-43c6-a58a-a00e148ce656', node_type='4', metadata={'url': 'http://www.paulgraham.com/fr.html'}, hash='c4f1758462daa49e2fb4f4c5b9aac5a010302725e858bc9d9bf94ee88a2fe6a4'), <NodeRelationship.PREVIOUS: '2'>: RelatedNodeInfo(node_id='0ee7cc70-9a20-45e2-9924-93ce68f4fb42', node_type='1', metadata={'url': 'http://www.paulgraham.com/fr.html'}, hash='25df0d164a56864909e8355b79d22c06b4ef2f4b5def47b8f410e049c6a464ac'), <NodeRelationship.NEXT: '3'>: RelatedNodeInfo(node_id='23feca0c-e667-4457-9de8-bacdcda27e4a', node_type='1', metadata={}, hash='2440e71cc217ca88a3fdf16c9b3603df09e3cc47c6356ee169b8749e0fc6e189')}, metadata_template='{key}: {value}', metadata_separator='\\n', text='Now startups\\nsimply raise money from investors one at a time till they feel they\\nhave enough.<br /><br />Since there are no longer leads, why do investors use that term?\\nBecause it\\'s a more legitimate-sounding way of saying what they\\nreally mean.  All they really mean is that their interest in you\\nis a function of other investors\\' interest in you.  I.e. the spectral\\nsignature of all mediocre investors.  But when phrased in terms of\\nleads, it sounds like there is something structural and therefore\\nlegitimate about their behavior.<br /><br />When an investor tells you \"I want to invest in you, but I don\\'t\\nlead,\" translate that in your mind to \"No, except yes if you turn\\nout to be a hot deal.\"  And since that\\'s the default opinion of any\\ninvestor about any startup, they\\'ve essentially just told you\\nnothing.<br /><br />When you first start fundraising, the expected value of an investor\\nwho won\\'t \"lead\" is zero, so talk to such investors last if at all.<br /><br />\\n<b>Have multiple plans.</b><br /><br />Many investors will ask how much you\\'re planning to raise. This\\nquestion makes founders feel they should be planning to raise a\\nspecific amount.  But in fact you shouldn\\'t.  It\\'s a mistake to\\nhave fixed plans in an undertaking as unpredictable as fundraising.<br /><br />So why do investors ask how much you plan to raise?  For much the\\nsame reasons a salesperson in a store will ask \"How much were you\\nplanning to spend?\" if you walk in looking for a gift for a friend.\\nYou probably didn\\'t have a precise amount in mind; you just want\\nto find something good, and if it\\'s inexpensive, so much the better.\\nThe salesperson asks you this not because you\\'re supposed to have\\na plan to spend a specific amount, but so they can show you only\\nthings that cost the most you\\'ll pay.<br /><br />Similarly, when investors ask how much you plan to raise, it\\'s not\\nbecause you\\'re supposed to have a plan.  It\\'s to see whether you\\'d\\nbe a suitable recipient for the size of investment they like to\\nmake, and also to judge your ambition, reasonableness, and how far\\nyou are along with fundraising.<br /><br />If you\\'re a wizard at fundraising, you can say \"We plan to raise\\na $7 million series A round, and we\\'ll be accepting termsheets next\\ntuesday.\"  I\\'ve known a handful of founders who could pull that off\\nwithout having VCs laugh in their faces.  But if you\\'re in the\\ninexperienced but earnest majority, the solution is analogous to\\nthe solution I recommend for <a href=\"convince.html\">pitching</a>\\nyour startup: do the right thing and then just tell investors what\\nyou\\'re doing.<br /><br />And the right strategy, in fundraising, is to have multiple plans\\ndepending on how much you can raise.  Ideally you should be able\\nto tell investors something like: we can make it to profitability\\nwithout raising any more money, but if we raise a few hundred\\nthousand we can hire one or two smart friends, and if we raise a\\ncouple million, we can hire a whole engineering team, etc.<br /><br />Different plans match different investors.  If you\\'re talking to a\\nVC firm that only does series A rounds (though there are few of\\nthose left), it would be a waste of time talking about any but your\\nmost expensive plan.  Whereas if you\\'re talking to an angel who\\ninvests $20k at a time and you haven\\'t raised any money yet, you\\nprobably want to focus on your least expensive plan.<br /><br />If you\\'re so fortunate as to have to think about the upper limit\\non what you should raise, a good rule of thumb is to multiply the\\nnumber of people you want to hire times $15k times 18 months.  In\\nmost startups, nearly all the costs are a function of the number\\nof people, and $15k per month is the conventional total cost\\n(including benefits and even office space) per person.  $15k per\\nmonth is high, so don\\'t actually spend that much.  But it\\'s ok to\\nuse a high estimate when fundraising to add a margin for error.  If\\nyou have additional expenses, like manufacturing, add in those at\\nthe end.  Assuming you have none and you think you might hire 20\\npeople, the most you\\'d want to raise is 20 x $15k x 18 = $5.4\\nmillion.', mimetype='text/plain', start_char_idx=22303, end_char_idx=26406, metadata_seperator='\\n', text_template='{metadata_str}\\n\\n{content}'), score=0.8239322544181872)], metadata={'fe2503a0-a841-494d-901d-35b7c800caaf': {'url': 'http://www.paulgraham.com/fr.html'}, 'ac3ab3ea-d477-47a7-ab30-09bad754d4a7': {'url': 'http://www.paulgraham.com/fr.html'}})"
            ]
          },
          "metadata": {},
          "execution_count": 12
        }
      ]
    },
    {
      "cell_type": "code",
      "source": [
        "tools = [\n",
        "    Tool(\n",
        "        name=\"Website Index\",\n",
        "        func=lambda q: index.as_query_engine().query(q),\n",
        "        description=f\"Useful when you want answer questions about the text on websites.\",\n",
        "    ),\n",
        "]"
      ],
      "metadata": {
        "id": "aZ6SzscIGwEw"
      },
      "execution_count": 17,
      "outputs": []
    },
    {
      "cell_type": "code",
      "source": [
        "llm = OpenAI(temperature=1)\n",
        "memory = ConversationBufferMemory(memory_key=\"chat_history\")\n",
        "agent_chain = initialize_agent(\n",
        "    tools, llm, agent=\"zero-shot-react-description\", memory=memory\n",
        ")\n",
        "\n",
        "output = agent_chain.run(input=\"What are the 3 best advise by Paul to raise money?\")"
      ],
      "metadata": {
        "id": "D8Z65-kSDLOq",
        "outputId": "ce6e9797-05fd-46a8-ade0-d4a48dc88d42",
        "colab": {
          "base_uri": "https://localhost:8080/"
        }
      },
      "execution_count": 18,
      "outputs": [
        {
          "output_type": "stream",
          "name": "stderr",
          "text": [
            "INFO:httpx:HTTP Request: POST https://api.openai.com/v1/completions \"HTTP/1.1 200 OK\"\n",
            "INFO:httpx:HTTP Request: POST https://api.openai.com/v1/embeddings \"HTTP/1.1 200 OK\"\n",
            "INFO:httpx:HTTP Request: POST https://api.openai.com/v1/chat/completions \"HTTP/1.1 200 OK\"\n",
            "INFO:httpx:HTTP Request: POST https://api.openai.com/v1/completions \"HTTP/1.1 200 OK\"\n",
            "INFO:httpx:HTTP Request: POST https://api.openai.com/v1/embeddings \"HTTP/1.1 200 OK\"\n",
            "INFO:httpx:HTTP Request: POST https://api.openai.com/v1/chat/completions \"HTTP/1.1 200 OK\"\n",
            "INFO:httpx:HTTP Request: POST https://api.openai.com/v1/completions \"HTTP/1.1 200 OK\"\n",
            "INFO:httpx:HTTP Request: POST https://api.openai.com/v1/embeddings \"HTTP/1.1 200 OK\"\n",
            "INFO:httpx:HTTP Request: POST https://api.openai.com/v1/chat/completions \"HTTP/1.1 200 OK\"\n",
            "INFO:httpx:HTTP Request: POST https://api.openai.com/v1/completions \"HTTP/1.1 200 OK\"\n"
          ]
        }
      ]
    },
    {
      "cell_type": "code",
      "source": [
        "output"
      ],
      "metadata": {
        "id": "C-bUPtb6IBGk",
        "outputId": "f972bf7e-d9e6-44f4-e421-3e5ee8293ed3",
        "colab": {
          "base_uri": "https://localhost:8080/",
          "height": 35
        }
      },
      "execution_count": 19,
      "outputs": [
        {
          "output_type": "execute_result",
          "data": {
            "text/plain": [
              "'Know where you stand, get the first commitment, and close committed money'"
            ],
            "application/vnd.google.colaboratory.intrinsic+json": {
              "type": "string"
            }
          },
          "metadata": {},
          "execution_count": 19
        }
      ]
    }
  ]
}